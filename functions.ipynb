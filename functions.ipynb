{
 "cells": [
  {
   "cell_type": "markdown",
   "metadata": {
    "id": "wTlyMgnc50hS"
   },
   "source": [
    "## Simple Function Top"
   ]
  },
  {
   "cell_type": "code",
   "execution_count": null,
   "metadata": {
    "id": "sOv47fig54rM"
   },
   "outputs": [],
   "source": []
  },
  {
   "cell_type": "markdown",
   "metadata": {
    "id": "tqoIqLo_53Oz"
   },
   "source": [
    "### Simple Functions"
   ]
  },
  {
   "cell_type": "code",
   "execution_count": 1,
   "metadata": {
    "id": "CfOmDZao5vcA"
   },
   "outputs": [],
   "source": [
    "def nothing():pass"
   ]
  },
  {
   "cell_type": "code",
   "execution_count": 2,
   "metadata": {
    "id": "sWLx-W4T5-JD"
   },
   "outputs": [],
   "source": [
    "value = nothing()"
   ]
  },
  {
   "cell_type": "code",
   "execution_count": null,
   "metadata": {
    "id": "y7WuZig16DZr"
   },
   "outputs": [],
   "source": []
  },
  {
   "cell_type": "markdown",
   "metadata": {
    "id": "SsKAvXWi6Kc7"
   },
   "source": [
    "### Return Something"
   ]
  },
  {
   "cell_type": "code",
   "execution_count": 3,
   "metadata": {
    "id": "zEDOngtw6NlU"
   },
   "outputs": [],
   "source": [
    "def number():\n",
    "    return 1"
   ]
  },
  {
   "cell_type": "code",
   "execution_count": 4,
   "metadata": {
    "id": "7uV7RiGW6SCk"
   },
   "outputs": [],
   "source": [
    "num = number()"
   ]
  },
  {
   "cell_type": "code",
   "execution_count": null,
   "metadata": {
    "id": "NBBIZ4jW6Uxb"
   },
   "outputs": [],
   "source": []
  },
  {
   "cell_type": "markdown",
   "metadata": {
    "id": "pIpUq4Ee6cfx"
   },
   "source": [
    "### Logic Inside"
   ]
  },
  {
   "cell_type": "code",
   "execution_count": 5,
   "metadata": {
    "id": "-WcaFZxF6gIE"
   },
   "outputs": [],
   "source": [
    "def logic():\n",
    "    x = 1\n",
    "    y = 2\n",
    "    return x+y"
   ]
  },
  {
   "cell_type": "code",
   "execution_count": 6,
   "metadata": {
    "colab": {
     "base_uri": "https://localhost:8080/"
    },
    "id": "ry5692E26lhT",
    "outputId": "d5d28bbb-d9a2-460d-f280-6ca377401c35"
   },
   "outputs": [
    {
     "name": "stdout",
     "output_type": "stream",
     "text": [
      "3\n"
     ]
    }
   ],
   "source": [
    "print(logic())"
   ]
  },
  {
   "cell_type": "code",
   "execution_count": null,
   "metadata": {
    "id": "bNK_SlzO6n4U"
   },
   "outputs": [],
   "source": []
  },
  {
   "cell_type": "markdown",
   "metadata": {
    "id": "fnVbt_QT6veg"
   },
   "source": [
    "### Input Functions"
   ]
  },
  {
   "cell_type": "code",
   "execution_count": 7,
   "metadata": {
    "id": "UEBqrpuM6xwe"
   },
   "outputs": [],
   "source": [
    "def add(x,y):\n",
    "    calculation = x + y\n",
    "    return calculation\n"
   ]
  },
  {
   "cell_type": "code",
   "execution_count": 8,
   "metadata": {
    "colab": {
     "base_uri": "https://localhost:8080/"
    },
    "id": "TGrNrkIw68oh",
    "outputId": "bab7e5b9-e5f8-4d3b-8bf9-01810cd030a4"
   },
   "outputs": [
    {
     "data": {
      "text/plain": [
       "5"
      ]
     },
     "execution_count": 8,
     "metadata": {},
     "output_type": "execute_result"
    }
   ],
   "source": [
    "add(2,3)"
   ]
  },
  {
   "cell_type": "code",
   "execution_count": null,
   "metadata": {
    "id": "ubYgB-H76926"
   },
   "outputs": [],
   "source": []
  },
  {
   "cell_type": "markdown",
   "metadata": {
    "id": "j3-Mzdq07Cr7"
   },
   "source": [
    "### Complete Function with Documentation"
   ]
  },
  {
   "cell_type": "code",
   "execution_count": 9,
   "metadata": {
    "id": "yuSJGVKI7GB6"
   },
   "outputs": [],
   "source": [
    "def more_add(x,y):\n",
    "    \"\"\"This function adds values together\"\"\"\n",
    "    calculation = x + y\n",
    "    return calculation\n",
    "\n"
   ]
  },
  {
   "cell_type": "code",
   "execution_count": 10,
   "metadata": {
    "id": "xxSr3rBL7SHi"
   },
   "outputs": [],
   "source": [
    "result = more_add(2,2)"
   ]
  },
  {
   "cell_type": "code",
   "execution_count": 11,
   "metadata": {
    "colab": {
     "base_uri": "https://localhost:8080/"
    },
    "id": "4tRtnFUw7VfK",
    "outputId": "d6012bf9-240d-4ed4-c65d-40e0cc75868e"
   },
   "outputs": [
    {
     "data": {
      "text/plain": [
       "4"
      ]
     },
     "execution_count": 11,
     "metadata": {},
     "output_type": "execute_result"
    }
   ],
   "source": [
    "result"
   ]
  },
  {
   "cell_type": "code",
   "execution_count": 12,
   "metadata": {
    "colab": {
     "base_uri": "https://localhost:8080/",
     "height": 35
    },
    "id": "p0btF2Pd7WQq",
    "outputId": "ac264652-0308-4f8d-cd61-559bed601ae2"
   },
   "outputs": [
    {
     "data": {
      "text/plain": [
       "'This function adds values together'"
      ]
     },
     "execution_count": 12,
     "metadata": {},
     "output_type": "execute_result"
    }
   ],
   "source": [
    "more_add.__doc__"
   ]
  },
  {
   "cell_type": "code",
   "execution_count": null,
   "metadata": {
    "id": "Bb8ic7Ze7Y-a"
   },
   "outputs": [],
   "source": []
  },
  {
   "cell_type": "markdown",
   "metadata": {
    "id": "vTepUdWS7jWt"
   },
   "source": [
    "### Keyword arguments"
   ]
  },
  {
   "cell_type": "code",
   "execution_count": 13,
   "metadata": {
    "id": "7IN6HW6J7mPb"
   },
   "outputs": [],
   "source": [
    "def keyword_add(x=1,y=2):\n",
    "    \"\"\"This is a keyword style add function\"\"\"\n",
    "    result = x+y\n",
    "    print(f\"This is my result: {result}\")\n"
   ]
  },
  {
   "cell_type": "code",
   "execution_count": 14,
   "metadata": {
    "colab": {
     "base_uri": "https://localhost:8080/"
    },
    "id": "Aobpl2Co78Tp",
    "outputId": "c7694486-0fd4-48e8-9249-b981c6f6bec1"
   },
   "outputs": [
    {
     "name": "stdout",
     "output_type": "stream",
     "text": [
      "This is my result: 3\n"
     ]
    }
   ],
   "source": [
    "keyword_add()"
   ]
  },
  {
   "cell_type": "code",
   "execution_count": null,
   "metadata": {
    "id": "0Gx_-qQo7-rS"
   },
   "outputs": [],
   "source": []
  },
  {
   "cell_type": "markdown",
   "metadata": {
    "id": "jV38WtKY8Chu"
   },
   "source": [
    "### Infinite Arguments"
   ]
  },
  {
   "cell_type": "code",
   "execution_count": 15,
   "metadata": {
    "id": "9d3JkNKK8F4K"
   },
   "outputs": [],
   "source": [
    "def infinite(**kwargs):\n",
    "    \"\"\"This takes infinite keyword arguments\"\"\"\n",
    "\n",
    "    for key, value in kwargs.items():\n",
    "        print(f\"key: {key}, value: {value}\")"
   ]
  },
  {
   "cell_type": "code",
   "execution_count": 16,
   "metadata": {
    "colab": {
     "base_uri": "https://localhost:8080/"
    },
    "id": "LlmSE4BT8eyi",
    "outputId": "bebf36ad-1c3c-4498-f9c9-12095be5d6be"
   },
   "outputs": [
    {
     "name": "stdout",
     "output_type": "stream",
     "text": [
      "key: x, value: 1\n"
     ]
    }
   ],
   "source": [
    "infinite(x=1)"
   ]
  },
  {
   "cell_type": "code",
   "execution_count": 17,
   "metadata": {
    "colab": {
     "base_uri": "https://localhost:8080/"
    },
    "id": "rOzzwj5t8gyC",
    "outputId": "bb43f135-8105-4f75-a2d7-c9ac906b97d4"
   },
   "outputs": [
    {
     "name": "stdout",
     "output_type": "stream",
     "text": [
      "key: x, value: 1\n",
      "key: y, value: 2\n"
     ]
    }
   ],
   "source": [
    "infinite(x=1, y=2)"
   ]
  },
  {
   "cell_type": "code",
   "execution_count": 18,
   "metadata": {
    "colab": {
     "base_uri": "https://localhost:8080/"
    },
    "id": "8oKZh0PE8jW6",
    "outputId": "c35bc178-09c2-4c16-b8ca-100b5c49bca8"
   },
   "outputs": [
    {
     "name": "stdout",
     "output_type": "stream",
     "text": [
      "key: x, value: 1\n",
      "key: y, value: 2\n",
      "key: z, value: 20000\n"
     ]
    }
   ],
   "source": [
    "infinite(x=1, y=2, z=20000)"
   ]
  },
  {
   "cell_type": "code",
   "execution_count": null,
   "metadata": {
    "id": "Bt5D78pi8mbx"
   },
   "outputs": [],
   "source": []
  },
  {
   "cell_type": "code",
   "execution_count": null,
   "metadata": {
    "id": "FWUXr3MQ8zpv"
   },
   "outputs": [],
   "source": []
  },
  {
   "cell_type": "markdown",
   "metadata": {
    "id": "Nxp08knV80N_"
   },
   "source": [
    "## Complex Functions"
   ]
  },
  {
   "cell_type": "markdown",
   "metadata": {
    "id": "mjV3W8_E82tM"
   },
   "source": [
    "### Decorator"
   ]
  },
  {
   "cell_type": "code",
   "execution_count": 19,
   "metadata": {
    "id": "rkPaP-ci81qx"
   },
   "outputs": [],
   "source": [
    "from functools import wraps\n",
    "from time import time\n",
    "\n",
    "def timing(f):\n",
    "    @wraps(f)\n",
    "    def wrap(*args, **kw):\n",
    "        ts = time()\n",
    "        result = f(*args, **kw)\n",
    "        te = time()\n",
    "        print(f\"function_name: {f.__name__}, args: [{args}, {kw}] took: {te-ts} sec\")\n",
    "        print(f\"docstring: {f.__doc__}\")\n",
    "        return result\n",
    "    return wrap"
   ]
  },
  {
   "cell_type": "code",
   "execution_count": 20,
   "metadata": {
    "id": "dYKNuPaW9faF"
   },
   "outputs": [],
   "source": [
    "from time import sleep\n",
    "\n",
    "@timing\n",
    "def slow_calc(x=1000,y=2000):\n",
    "    \"\"\"This is a simulated slow calculation\"\"\"\n",
    "    sleep(3)    #simulates slow calculation\n",
    "    result = x+y\n",
    "    return result\n",
    "\n"
   ]
  },
  {
   "cell_type": "code",
   "execution_count": 21,
   "metadata": {
    "colab": {
     "base_uri": "https://localhost:8080/"
    },
    "id": "TUovFNai9z3E",
    "outputId": "b6622050-3104-45e7-fab3-da0b18e54301"
   },
   "outputs": [
    {
     "name": "stdout",
     "output_type": "stream",
     "text": [
      "function_name: slow_calc, args: [(), {'x': 2, 'y': 3}] took: 3.000516653060913 sec\n",
      "docstring: This is a simulated slow calculation\n"
     ]
    }
   ],
   "source": [
    "value = slow_calc(x=2, y=3)"
   ]
  },
  {
   "cell_type": "code",
   "execution_count": null,
   "metadata": {
    "id": "xUxFmT38-FEc"
   },
   "outputs": [],
   "source": []
  },
  {
   "cell_type": "markdown",
   "metadata": {
    "id": "wFlYCM15-not"
   },
   "source": [
    "### Closure"
   ]
  },
  {
   "cell_type": "code",
   "execution_count": 22,
   "metadata": {
    "id": "qOu3bPEZ-pHW"
   },
   "outputs": [],
   "source": [
    "#nonlocal cannot modify this variable\n",
    "#lower_body_counter=5\n",
    "def attack_counter():\n",
    "    \"\"\"Counts number of attacks on part of body\"\"\"\n",
    "    lower_body_counter = 0\n",
    "    upper_body_counter = 0\n",
    "    #print(lower_body_counter)\n",
    "    def attack_filter(attack):\n",
    "        nonlocal lower_body_counter\n",
    "        nonlocal upper_body_counter\n",
    "        attacks = {\"kimura\": \"upper_body\",\n",
    "           \"straight_ankle_lock\":\"lower_body\", \n",
    "           \"arm_triangle\":\"upper_body\",\n",
    "            \"keylock\": \"upper_body\",\n",
    "            \"knee_bar\": \"lower_body\"}\n",
    "        if attack in attacks:\n",
    "            if attacks[attack] == \"upper_body\":\n",
    "                upper_body_counter +=1\n",
    "            if attacks[attack] == \"lower_body\":\n",
    "                lower_body_counter +=1\n",
    "        print(f\"Upper Body Attacks {upper_body_counter}, Lower Body Attacks {lower_body_counter}\")\n",
    "    return attack_filter"
   ]
  },
  {
   "cell_type": "code",
   "execution_count": 23,
   "metadata": {
    "id": "cIIhlcDm-tkd"
   },
   "outputs": [],
   "source": [
    "attack = attack_counter()"
   ]
  },
  {
   "cell_type": "code",
   "execution_count": 24,
   "metadata": {
    "colab": {
     "base_uri": "https://localhost:8080/"
    },
    "id": "4GaiHOB__RKU",
    "outputId": "1679092f-bbd6-4ac0-85e4-85292ca42b39"
   },
   "outputs": [
    {
     "name": "stdout",
     "output_type": "stream",
     "text": [
      "Upper Body Attacks 1, Lower Body Attacks 0\n"
     ]
    }
   ],
   "source": [
    "attack(\"kimura\")"
   ]
  },
  {
   "cell_type": "code",
   "execution_count": 25,
   "metadata": {
    "colab": {
     "base_uri": "https://localhost:8080/"
    },
    "id": "5c7h4PEX_SYc",
    "outputId": "ae492b44-d7d6-48eb-bfbc-73dae7611b0e"
   },
   "outputs": [
    {
     "name": "stdout",
     "output_type": "stream",
     "text": [
      "Upper Body Attacks 2, Lower Body Attacks 0\n"
     ]
    }
   ],
   "source": [
    "attack(\"kimura\")"
   ]
  },
  {
   "cell_type": "code",
   "execution_count": 26,
   "metadata": {
    "colab": {
     "base_uri": "https://localhost:8080/"
    },
    "id": "DCMG1mnJ_cuf",
    "outputId": "ba10bcfe-25bc-45a5-c784-f1c525a58392"
   },
   "outputs": [
    {
     "name": "stdout",
     "output_type": "stream",
     "text": [
      "Upper Body Attacks 2, Lower Body Attacks 1\n"
     ]
    }
   ],
   "source": [
    "attack(\"knee_bar\")"
   ]
  },
  {
   "cell_type": "markdown",
   "metadata": {
    "id": "6McWKqSg_pOG"
   },
   "source": [
    "### Randomized Sleep + Attack Closure"
   ]
  },
  {
   "cell_type": "code",
   "execution_count": 27,
   "metadata": {
    "id": "po7ZjF1D_gS1"
   },
   "outputs": [],
   "source": [
    "def randomized_speed_attack_decorator(function):\n",
    "    \"\"\"Randomizes the speed of attacks\"\"\"\n",
    "    \n",
    "    import time\n",
    "    import random\n",
    "    \n",
    "    def wrapper_func(*args, **kwargs):\n",
    "        sleep_time = random.randint(0,3)\n",
    "        print(f\"Attacking after {sleep_time} seconds\")\n",
    "        time.sleep(sleep_time)\n",
    "        return function(*args, **kwargs)\n",
    "    return wrapper_func"
   ]
  },
  {
   "cell_type": "code",
   "execution_count": 28,
   "metadata": {
    "id": "MQ5JSB2R_s_E"
   },
   "outputs": [],
   "source": [
    "@randomized_speed_attack_decorator\n",
    "def lazy_return_random_attacks():\n",
    "    \"\"\"Yield attacks each time\"\"\"\n",
    "    import random\n",
    "    attacks = {\"kimura\": \"upper_body\",\n",
    "           \"straight_ankle_lock\":\"lower_body\", \n",
    "           \"arm_triangle\":\"upper_body\",\n",
    "            \"keylock\": \"upper_body\",\n",
    "            \"knee_bar\": \"lower_body\"}\n",
    "    while True:\n",
    "        random_attack = random.choices(list(attacks.keys()))\n",
    "        yield random_attack"
   ]
  },
  {
   "cell_type": "code",
   "execution_count": 29,
   "metadata": {
    "colab": {
     "base_uri": "https://localhost:8080/"
    },
    "id": "eqBxj9tIAAlQ",
    "outputId": "89b4b4f2-b2d3-463d-ee1f-7fee2d9c0476"
   },
   "outputs": [
    {
     "name": "stdout",
     "output_type": "stream",
     "text": [
      "Attacking after 1 seconds\n",
      "['straight_ankle_lock']\n",
      "Attacking after 1 seconds\n",
      "['straight_ankle_lock']\n",
      "Attacking after 3 seconds\n",
      "['straight_ankle_lock']\n",
      "Attacking after 1 seconds\n",
      "['arm_triangle']\n",
      "Attacking after 0 seconds\n",
      "['kimura']\n"
     ]
    }
   ],
   "source": [
    "for _ in range(5):\n",
    "    print(next(lazy_return_random_attacks()))"
   ]
  },
  {
   "cell_type": "code",
   "execution_count": null,
   "metadata": {
    "id": "hrwFyJ9CABI1"
   },
   "outputs": [],
   "source": []
  },
  {
   "cell_type": "markdown",
   "metadata": {
    "id": "El9BspdkALS7"
   },
   "source": [
    "### Partial Functions"
   ]
  },
  {
   "cell_type": "code",
   "execution_count": 30,
   "metadata": {
    "colab": {
     "base_uri": "https://localhost:8080/"
    },
    "id": "huwaH7btANCz",
    "outputId": "bded9593-d337-48d1-e532-6637806254e1"
   },
   "outputs": [
    {
     "data": {
      "text/plain": [
       "functools.partial"
      ]
     },
     "execution_count": 30,
     "metadata": {},
     "output_type": "execute_result"
    }
   ],
   "source": [
    "from functools import partial\n",
    "\n",
    "def multiple_attacks(attack_one, attack_two):\n",
    "  \"\"\"Performs two attacks\"\"\"\n",
    "  \n",
    "  print(f\"First Attack {attack_one}\")\n",
    "  print(f\"Second Attack {attack_two}\")\n",
    "  \n",
    "attack_this = partial(multiple_attacks, \"kimura\")\n",
    "type(attack_this)"
   ]
  },
  {
   "cell_type": "code",
   "execution_count": 31,
   "metadata": {
    "colab": {
     "base_uri": "https://localhost:8080/"
    },
    "id": "6q3KEOfrAhg_",
    "outputId": "83c6b9d0-e683-445c-c73d-0b36e68d3c8a"
   },
   "outputs": [
    {
     "name": "stdout",
     "output_type": "stream",
     "text": [
      "First Attack kimura\n",
      "Second Attack leg lock\n"
     ]
    }
   ],
   "source": [
    "attack_this(\"leg lock\")"
   ]
  },
  {
   "cell_type": "markdown",
   "metadata": {
    "id": "In2I8PVJAorW"
   },
   "source": [
    "Data Engineering Pipeline"
   ]
  },
  {
   "cell_type": "code",
   "execution_count": 32,
   "metadata": {
    "id": "KOVwEzDJAk77"
   },
   "outputs": [],
   "source": [
    "from functools import partial\n",
    "\n",
    "def etl_pipeline(extract, load, transform):\n",
    "    \"\"\"This is a pipeline partial function\"\"\"\n",
    "\n",
    "    print(f\"Extract phase: {extract}\")\n",
    "    print(f\"Load phase: {load}\")\n",
    "    print(f\"transform phase: {transform}\")\n"
   ]
  },
  {
   "cell_type": "code",
   "execution_count": 33,
   "metadata": {
    "colab": {
     "base_uri": "https://localhost:8080/"
    },
    "id": "YBdSyvUzBAM5",
    "outputId": "3981cf97-98b8-4f46-e1f4-3a2778a3267f"
   },
   "outputs": [
    {
     "name": "stdout",
     "output_type": "stream",
     "text": [
      "2024-11-13 19:17:21.874807\n"
     ]
    }
   ],
   "source": [
    "import datetime\n",
    "now = datetime.datetime.now()\n",
    "print(now)"
   ]
  },
  {
   "cell_type": "code",
   "execution_count": 34,
   "metadata": {
    "id": "bYemnycKBJx7"
   },
   "outputs": [],
   "source": [
    "pipeline = partial(etl_pipeline, datetime.datetime.now(), datetime.datetime.now())\n"
   ]
  },
  {
   "cell_type": "code",
   "execution_count": 35,
   "metadata": {
    "colab": {
     "base_uri": "https://localhost:8080/"
    },
    "id": "Jb3nlS82BcvO",
    "outputId": "c5174305-d5ee-42ba-9e6a-e8af69db4b7b"
   },
   "outputs": [
    {
     "data": {
      "text/plain": [
       "functools.partial"
      ]
     },
     "execution_count": 35,
     "metadata": {},
     "output_type": "execute_result"
    }
   ],
   "source": [
    "type(pipeline)"
   ]
  },
  {
   "cell_type": "code",
   "execution_count": 36,
   "metadata": {
    "colab": {
     "base_uri": "https://localhost:8080/"
    },
    "id": "GkAXZjrdBdk8",
    "outputId": "afce6250-2e77-44bb-bccc-bd440106707a"
   },
   "outputs": [
    {
     "name": "stdout",
     "output_type": "stream",
     "text": [
      "Extract phase: 2024-11-13 19:17:21.887780\n",
      "Load phase: 2024-11-13 19:17:21.887780\n",
      "transform phase: 2024-11-13 19:17:21.918261\n"
     ]
    }
   ],
   "source": [
    "pipeline(datetime.datetime.now())"
   ]
  },
  {
   "cell_type": "code",
   "execution_count": null,
   "metadata": {
    "id": "7nhCvsPxBjoz"
   },
   "outputs": [],
   "source": []
  },
  {
   "cell_type": "markdown",
   "metadata": {
    "id": "pf8fUPX9CE6V"
   },
   "source": [
    "## Utilities in Python Functions"
   ]
  },
  {
   "cell_type": "markdown",
   "metadata": {
    "id": "FbJ1VR_PCX-K"
   },
   "source": [
    "#### Write YAML"
   ]
  },
  {
   "cell_type": "code",
   "execution_count": 37,
   "metadata": {
    "id": "gppsxFw6CHPz"
   },
   "outputs": [],
   "source": [
    "mydict = {\"one\":1, \"two\":2}"
   ]
  },
  {
   "cell_type": "code",
   "execution_count": 38,
   "metadata": {
    "id": "CwnntzC9Cb8G"
   },
   "outputs": [],
   "source": [
    "import yaml"
   ]
  },
  {
   "cell_type": "code",
   "execution_count": 39,
   "metadata": {
    "id": "i7pqQe9-Cfj7"
   },
   "outputs": [],
   "source": [
    "with open(\"data.yaml\", \"w\") as yamlfile:                                               \n",
    "    yaml.safe_dump(mydict, yamlfile, default_flow_style=False)"
   ]
  },
  {
   "cell_type": "markdown",
   "metadata": {
    "id": "iOVpfWjAC0sf"
   },
   "source": [
    "#### Read a YAML"
   ]
  },
  {
   "cell_type": "code",
   "execution_count": 41,
   "metadata": {
    "id": "DRPPIrzYC4Vr"
   },
   "outputs": [],
   "source": [
    "with open(\"data.yaml\", \"rb\") as yamlfile:                                               \n",
    "    res3 = yaml.safe_load(yamlfile)"
   ]
  },
  {
   "cell_type": "code",
   "execution_count": 42,
   "metadata": {
    "colab": {
     "base_uri": "https://localhost:8080/"
    },
    "id": "lZL73H3jC6kb",
    "outputId": "7911f69e-c36b-452e-e252-8fb641aa60dd"
   },
   "outputs": [
    {
     "data": {
      "text/plain": [
       "{'one': 1, 'two': 2}"
      ]
     },
     "execution_count": 42,
     "metadata": {},
     "output_type": "execute_result"
    }
   ],
   "source": [
    "res3"
   ]
  },
  {
   "cell_type": "code",
   "execution_count": null,
   "metadata": {
    "id": "DcHNjWKsC7RF"
   },
   "outputs": [],
   "source": []
  },
  {
   "cell_type": "markdown",
   "metadata": {
    "id": "tRBayvEnC-5B"
   },
   "source": [
    "#### Read a YAML function"
   ]
  },
  {
   "cell_type": "code",
   "execution_count": 43,
   "metadata": {
    "id": "ABnvmjlzDCw1"
   },
   "outputs": [],
   "source": [
    "def read_yaml(yaml_file):\n",
    "    \"\"\"This is my YAML reader function\"\"\"\n",
    "    with open(yaml_file, \"rb\") as yamlfile:                                               \n",
    "        yaml_content = yaml.safe_load(yamlfile)\n",
    "    return yaml_content\n",
    "\n",
    "\n"
   ]
  },
  {
   "cell_type": "code",
   "execution_count": 44,
   "metadata": {
    "id": "_xVw2zdFDKCr"
   },
   "outputs": [],
   "source": [
    "my_yaml_content = read_yaml(\"data.yaml\")"
   ]
  },
  {
   "cell_type": "code",
   "execution_count": 45,
   "metadata": {
    "colab": {
     "base_uri": "https://localhost:8080/"
    },
    "id": "vHpkYF9QDfaG",
    "outputId": "0a9e910b-956d-4828-df9c-7ade22f7a9ef"
   },
   "outputs": [
    {
     "name": "stdout",
     "output_type": "stream",
     "text": [
      "{'one': 1, 'two': 2}\n"
     ]
    }
   ],
   "source": [
    "print(my_yaml_content)"
   ]
  },
  {
   "cell_type": "code",
   "execution_count": null,
   "metadata": {
    "id": "W35FDfX0Dg8c"
   },
   "outputs": [],
   "source": []
  }
 ],
 "metadata": {
  "colab": {
   "name": "functions-2022.ipynb",
   "provenance": []
  },
  "kernelspec": {
   "display_name": "Python 3",
   "name": "python3"
  },
  "language_info": {
   "codemirror_mode": {
    "name": "ipython",
    "version": 3
   },
   "file_extension": ".py",
   "mimetype": "text/x-python",
   "name": "python",
   "nbconvert_exporter": "python",
   "pygments_lexer": "ipython3",
   "version": "3.11.9"
  }
 },
 "nbformat": 4,
 "nbformat_minor": 0
}
